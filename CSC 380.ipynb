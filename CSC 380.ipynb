{
 "cells": [
  {
   "cell_type": "markdown",
   "metadata": {},
   "source": [
    "## Numpy"
   ]
  },
  {
   "cell_type": "code",
   "execution_count": 1,
   "metadata": {},
   "outputs": [],
   "source": [
    "import numpy as np"
   ]
  },
  {
   "cell_type": "code",
   "execution_count": 2,
   "metadata": {},
   "outputs": [],
   "source": [
    "# create new instance of the Random Number Generator (RNG)\n",
    "seed = 1350\n",
    "rng = np.random.default_rng(seed)"
   ]
  },
  {
   "cell_type": "code",
   "execution_count": 6,
   "metadata": {},
   "outputs": [
    {
     "data": {
      "image/png": "[encoded data removed]",
      "text/plain": [
       "<Figure size 640x480 with 1 Axes>"
      ]
     },
     "metadata": {},
     "output_type": "display_data"
    }
   ],
   "source": [
    "# Sample a discrete uniform random variable\n",
    "import matplotlib.pyplot as plt\n",
    "\n",
    "X = np.random.randint(0,10,1000)\n",
    "count, bins, ignored = plt.hist(X, 10, density = True)\n",
    "plt.show()\n"
   ]
  },
  {
   "cell_type": "markdown",
   "metadata": {},
   "source": [
    "## Binomial Distribution"
   ]
  },
  {
   "cell_type": "markdown",
   "metadata": {},
   "source": [
    "Binomial Distribution: \n",
    "$\n",
    "p(Y = k) = \\binom{N}{k} \\pi^k (1 - \\pi)^{N-k}\n",
    "$\n"
   ]
  },
  {
   "cell_type": "markdown",
   "metadata": {},
   "source": [
    "Binomial Mean: $ E(Y) = N \\times \\pi$"
   ]
  },
  {
   "cell_type": "markdown",
   "metadata": {},
   "source": [
    "* Example: A company drills 9 wildcat oil exploration wells, each with an estimated probability of success of 0.1. All nine wells fail. What\n",
    "is the probability of that happening?"
   ]
  },
  {
   "cell_type": "code",
   "execution_count": 5,
   "metadata": {},
   "outputs": [
    {
     "data": {
      "text/plain": [
       "0.38706"
      ]
     },
     "execution_count": 5,
     "metadata": {},
     "output_type": "execute_result"
    }
   ],
   "source": [
    "N = 200000\n",
    "p = 0.1\n",
    "wells = 9\n",
    "X = np.random.binomial(wells, p, N)\n",
    "odds = sum(X == 0) /N\n",
    "odds\n"
   ]
  },
  {
   "cell_type": "markdown",
   "metadata": {},
   "source": [
    "## Geometric Distribution"
   ]
  },
  {
   "cell_type": "markdown",
   "metadata": {},
   "source": [
    "independent draws of $X \\sim Bernoulli(\\pi)$ until success: $P(Y = n) = (1 - \\pi)^{n-1} \\pi$\n",
    "\n",
    "$E[Y] = \\frac{1}{\\pi}$\n",
    "\n",
    "* e.g. there must be n-1 failures (tails) before a success (heads)."
   ]
  },
  {
   "cell_type": "markdown",
   "metadata": {},
   "source": [
    "## multinomial distribution"
   ]
  },
  {
   "cell_type": "markdown",
   "metadata": {},
   "source": [
    "Categorical Distribution on integer-valued RV $X \\in \\{1, 2...K\\}$ \n",
    "\n",
    "$p(X) = \\prod_{k=1}^{K} \\pi_k^{I(X=k)}$ or\n",
    "\n",
    "$p(X) = \\sum_{k=1}^{K} I(X = k) \\cdot \\pi_k$\n"
   ]
  },
  {
   "cell_type": "markdown",
   "metadata": {},
   "source": []
  }
 ],
 "metadata": {
  "kernelspec": {
   "display_name": "Python 3",
   "language": "python",
   "name": "python3"
  },
  "language_info": {
   "codemirror_mode": {
    "name": "ipython",
    "version": 3
   },
   "file_extension": ".py",
   "mimetype": "text/x-python",
   "name": "python",
   "nbconvert_exporter": "python",
   "pygments_lexer": "ipython3",
   "version": "3.7.4"
  }
 },
 "nbformat": 4,
 "nbformat_minor": 2
}
